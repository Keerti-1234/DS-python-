{
  "nbformat": 4,
  "nbformat_minor": 0,
  "metadata": {
    "colab": {
      "provenance": []
    },
    "kernelspec": {
      "name": "python3",
      "display_name": "Python 3"
    },
    "language_info": {
      "name": "python"
    }
  },
  "cells": [
    {
      "cell_type": "code",
      "execution_count": null,
      "metadata": {
        "id": "n6Ccn6ZoHjle"
      },
      "outputs": [],
      "source": []
    },
    {
      "cell_type": "code",
      "source": [],
      "metadata": {
        "id": "zHre26e5Hz_B"
      },
      "execution_count": null,
      "outputs": []
    },
    {
      "cell_type": "markdown",
      "source": [],
      "metadata": {
        "id": "Podn-4T2H0p3"
      }
    },
    {
      "cell_type": "markdown",
      "source": [
        "\n",
        "\n",
        "# python\n",
        "Python is a popular programming language. It was created by Guido van Rossum, and released in 1991. Python is an interpreted, objective-oriented, high level programming language with dynamic semantics. Python, one of the most popular programming languages in the world, has created everything from Netflix’s recommendation algorithm to the software that controls self-driving cars. Python is a general-purpose language, used to create a range of applications, including data science, software and web development, automation, and improving the ease of everyday tasks.\n",
        "\n",
        "It is used for :\n",
        " 1. Web development\n",
        " 2. software development\n",
        " 3. Mathematics\n",
        " 4. System scripting\n",
        "\n",
        "\n",
        "\n",
        "  \n"
      ],
      "metadata": {
        "id": "OfwHxmq6H68A"
      }
    },
    {
      "cell_type": "markdown",
      "source": [
        "### **Comments:-**\n",
        " Comments in Python is the inclusion of short descriptions along with the code to increase its readability. A developer uses them to write his or her thought process while writing the code. By using the “#” symbol at the beginning of each line of the comment, or By using string literals in single ('), double (“), or triple (“””) quotation marks. It explains the basic logic behind why a particular line of code was written\n",
        " Seven types of comments emerge:\n",
        "\n",
        " 1. directive\n",
        " 2. evaluative\n",
        " 3. advisory\n",
        " 4. interpretive\n",
        " 5. descriptive\n",
        " 6. directive questions (Socratic) and\n",
        " 7. open-ended questions (discovery).\n"
      ],
      "metadata": {
        "id": "yOBLVn5nOlOB"
      }
    },
    {
      "cell_type": "markdown",
      "source": [
        "## **Key words:-**\n",
        "\n",
        "A Python keyword is a word that serves a specific function in Python. It is limited to one single function and it can not be set as a variable name, a function name, or the value of any other identifier. The purpose of the keyword is to define the syntax of the code.\n",
        "\n",
        "What are the keywords in Python?\n",
        "\n",
        "   List of Python Keywords (With Examples)\n",
        "Keywords in Python include: False, True, None, and, as, assert, async, await, def, del, elif, else, break, class, continue, except, finally, for, from, global, if, import, in, is, lambda, nonlocal, not, or, pass, raise, return, try, while, with and yield."
      ],
      "metadata": {
        "id": "Skqwf2WBHxkt"
      }
    }
  ]
}