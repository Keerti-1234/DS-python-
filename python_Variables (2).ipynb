{
  "nbformat": 4,
  "nbformat_minor": 0,
  "metadata": {
    "colab": {
      "provenance": []
    },
    "kernelspec": {
      "name": "python3",
      "display_name": "Python 3"
    },
    "language_info": {
      "name": "python"
    }
  },
  "cells": [
    {
      "cell_type": "code",
      "execution_count": null,
      "metadata": {
        "id": "D8iGb0RvNxoW"
      },
      "outputs": [],
      "source": []
    },
    {
      "cell_type": "code",
      "source": [],
      "metadata": {
        "id": "BBtd2ipKqkm2"
      },
      "execution_count": null,
      "outputs": []
    },
    {
      "cell_type": "markdown",
      "source": [],
      "metadata": {
        "id": "aT_S5Z-MSBVN"
      }
    },
    {
      "cell_type": "markdown",
      "source": [
        "# **Python Variables**:-\n",
        "\n",
        "## **Variables :**-\n",
        "\n",
        " Variables are containers for storing data values.\n",
        "\n",
        " **Creating Variables:-**\n",
        "\n",
        "Python has no command for declaring a variable.\n",
        "\n",
        "A variable is created the moment you first assign a value to it.\n",
        "\n",
        "Examples:-\n",
        "\n",
        "\n",
        "Operator\tDescription\tSyntax\n",
        "1. Addition: adds two operands\tx + y\n",
        "\n",
        "2. –Subtraction: subtracts two operands\tx – y\n",
        "\n",
        "3. *\tMultiplication: multiplies two operands\tx * y\n",
        "\n",
        "4. /\tDivision (float): divides the first operand by the second\tx / y\n",
        "\n",
        "5. //\tDivision (floor): divides the first operand by the second\tx // y\n",
        "\n",
        "6. %\tModulus: returns the remainder when the first operand is divided by the second\tx % y\n",
        "\n",
        "7. **\tPower: Returns first raised to power second\tx ** y\n"
      ],
      "metadata": {
        "id": "RibOJ1gBSdHD"
      }
    },
    {
      "cell_type": "code",
      "source": [
        "a= \"keerthi\"\n",
        "b= 21\n",
        "\n",
        "print(a)\n",
        "print(b)"
      ],
      "metadata": {
        "colab": {
          "base_uri": "https://localhost:8080/"
        },
        "id": "C-Vn-VMvTmos",
        "outputId": "7b9f5590-401d-422b-bd15-0e42986d8351"
      },
      "execution_count": null,
      "outputs": [
        {
          "output_type": "stream",
          "name": "stdout",
          "text": [
            "keerthi\n",
            "21\n"
          ]
        }
      ]
    },
    {
      "cell_type": "code",
      "source": [
        "a=7\n",
        "b=11\n",
        "# addition\n",
        "c=a+b\n",
        "print(c)"
      ],
      "metadata": {
        "colab": {
          "base_uri": "https://localhost:8080/"
        },
        "id": "bGWMa403VC-A",
        "outputId": "f6bc60fe-29c3-48b2-b0df-1c05b1b3a55b"
      },
      "execution_count": null,
      "outputs": [
        {
          "output_type": "stream",
          "name": "stdout",
          "text": [
            "18\n"
          ]
        }
      ]
    },
    {
      "cell_type": "code",
      "source": [
        "#subtraction\n",
        "c=a-b\n",
        "print(c)"
      ],
      "metadata": {
        "colab": {
          "base_uri": "https://localhost:8080/"
        },
        "id": "hur21OzaXIJY",
        "outputId": "d55f449c-11d8-433d-fa38-943900636f26"
      },
      "execution_count": null,
      "outputs": [
        {
          "output_type": "stream",
          "name": "stdout",
          "text": [
            "-4\n"
          ]
        }
      ]
    },
    {
      "cell_type": "code",
      "source": [
        "#multiplication\n",
        "c=a*b\n",
        "print(c)"
      ],
      "metadata": {
        "colab": {
          "base_uri": "https://localhost:8080/"
        },
        "id": "xQ0nlBzJXVcU",
        "outputId": "fc965215-c945-4a11-ecb5-13e1372893e4"
      },
      "execution_count": null,
      "outputs": [
        {
          "output_type": "stream",
          "name": "stdout",
          "text": [
            "77\n"
          ]
        }
      ]
    },
    {
      "cell_type": "code",
      "source": [
        "#division\n",
        "c=a/b\n",
        "print(c)"
      ],
      "metadata": {
        "colab": {
          "base_uri": "https://localhost:8080/"
        },
        "id": "q7Tq-HhgX3q0",
        "outputId": "f15d5fe4-20cd-4207-d8bc-33e7560131b6"
      },
      "execution_count": null,
      "outputs": [
        {
          "output_type": "stream",
          "name": "stdout",
          "text": [
            "0.6363636363636364\n"
          ]
        }
      ]
    },
    {
      "cell_type": "code",
      "source": [
        "#floor divison\n",
        "a=7\n",
        "b=8.32\n",
        "c=a//b\n",
        "print(c)"
      ],
      "metadata": {
        "colab": {
          "base_uri": "https://localhost:8080/"
        },
        "id": "TXjC1RRJYGfc",
        "outputId": "5909e6a6-e2a9-4b56-f31d-b95686046f5b"
      },
      "execution_count": null,
      "outputs": [
        {
          "output_type": "stream",
          "name": "stdout",
          "text": [
            "0.0\n"
          ]
        }
      ]
    },
    {
      "cell_type": "code",
      "source": [
        "#modulus\n",
        "a=22\n",
        "b=10\n",
        "c=a%b\n",
        "print(c)"
      ],
      "metadata": {
        "colab": {
          "base_uri": "https://localhost:8080/"
        },
        "id": "MlrcqPf2qz1k",
        "outputId": "8b89bf18-5e08-448c-add7-f09cbf6f0504"
      },
      "execution_count": null,
      "outputs": [
        {
          "output_type": "stream",
          "name": "stdout",
          "text": [
            "2\n"
          ]
        }
      ]
    },
    {
      "cell_type": "code",
      "source": [
        "#exponential\n",
        "a=7\n",
        "b=3\n",
        "c=a**b\n",
        "print(c)"
      ],
      "metadata": {
        "id": "xQ7-BdG3sixw",
        "colab": {
          "base_uri": "https://localhost:8080/"
        },
        "outputId": "fad21192-0c83-4f9d-b26b-1362c16d4169"
      },
      "execution_count": null,
      "outputs": [
        {
          "output_type": "stream",
          "name": "stdout",
          "text": [
            "343\n"
          ]
        }
      ]
    },
    {
      "cell_type": "code",
      "source": [],
      "metadata": {
        "id": "tQRu2rlrREmW"
      },
      "execution_count": null,
      "outputs": []
    },
    {
      "cell_type": "markdown",
      "source": [
        "## **Python Identifiers**\n",
        "\n",
        "Python Identifier is the name we give to identify a variable, function, class, module or other object. That means whenever we want to give an entity a name, that's called identifier. Sometimes variable and identifier are often misunderstood as same but they are not.\n",
        "\n",
        "# **Rules for writing Identifiers in python:-**\n",
        "\n",
        " 1. Identifiers can be combination of uppercase and lowercase letters, digits or an underscore(_). ...\n",
        " 2. An Identifier can not start with digit. ...\n",
        " 3. We can't use special symbols like !,#,@,%,$ etc in our Identifier.\n",
        " 4. Identifier can be of any length.\n",
        " 5. Identifiers must start with a letter or underscore ( _ ).\n",
        "\n"
      ],
      "metadata": {
        "id": "CHpOAJArTBwO"
      }
    },
    {
      "cell_type": "code",
      "source": [
        "#valid variables\n",
        "name_=\"keerthi\"\n",
        "age_=\"21\"\n",
        "subject_=\"python\"\n",
        "zodiac_=\"libra\"\n",
        "recent_passout=\"degree\"\n",
        "phone_num=\"7893175630\"\n",
        "gender_=\"female\"\n",
        "state_=\"telangana\"\n",
        "date_of_birth=\"october 3rd 2002\"\n",
        "nick_name=\"chintu\"\n",
        "best_friend=\"prasanna\"\n",
        "number_=\"1,2,3,4,5,6,7,8,9\"\n",
        "fear_of=\"computer terminology\"\n",
        "alphabets_=\"a,b,c,d,e,f,g,h,i,j,k,l,m,n,o,p,q,r,s,t,u,v,w,x,y,z\"\n",
        "blood_group=\"b+\"\n",
        "\n",
        "print(name_)\n",
        "print(age_)\n",
        "print(subject_)\n",
        "print(zodiac_)\n",
        "print(recent_passout)\n",
        "print(phone_num)\n",
        "print(gender_)\n",
        "print(state_)\n",
        "print(date_of_birth)\n",
        "print(nick_name)\n",
        "print(best_friend)\n",
        "print(number_)\n",
        "print(fear_of)\n",
        "print(alphabets_)\n",
        "print(blood_group)\n"
      ],
      "metadata": {
        "id": "Kk8pDArpb9wX",
        "colab": {
          "base_uri": "https://localhost:8080/"
        },
        "outputId": "8b58a373-0142-4cc7-80ef-451851a792c6"
      },
      "execution_count": null,
      "outputs": [
        {
          "output_type": "stream",
          "name": "stdout",
          "text": [
            "keerthi\n",
            "21\n",
            "python\n",
            "libra\n",
            "degree\n",
            "7893175630\n",
            "female\n",
            "telangana\n",
            "october 3rd 2002\n",
            "chintu\n",
            "prasanna\n",
            "1,2,3,4,5,6,7,8,9\n",
            "computer terminology\n",
            "a,b,c,d,e,f,g,h,i,j,k,l,m,n,o,p,q,r,s,t,u,v,w,x,y,z\n",
            "b+\n"
          ]
        }
      ]
    },
    {
      "cell_type": "code",
      "source": [
        "#invalid variables\n",
        "1st_name = \"keerthi\"\n",
        "_age = 21\n",
        "@class = \"python\"\n",
        "if = \"false\"\n",
        "$ dollar = \"rupee\"\n",
        "finally = \"atlast\"\n",
        "institute = \"1,2,3\"\n"
      ],
      "metadata": {
        "colab": {
          "base_uri": "https://localhost:8080/",
          "height": 106
        },
        "id": "Qv0Cr8W8Y-p6",
        "outputId": "961a2ac6-478c-48e8-ae71-2bcfef76e47f"
      },
      "execution_count": 2,
      "outputs": [
        {
          "output_type": "error",
          "ename": "SyntaxError",
          "evalue": "invalid decimal literal (<ipython-input-2-8a105f0fcb58>, line 2)",
          "traceback": [
            "\u001b[0;36m  File \u001b[0;32m\"<ipython-input-2-8a105f0fcb58>\"\u001b[0;36m, line \u001b[0;32m2\u001b[0m\n\u001b[0;31m    1st_name = \"keerthi\"\u001b[0m\n\u001b[0m    ^\u001b[0m\n\u001b[0;31mSyntaxError\u001b[0m\u001b[0;31m:\u001b[0m invalid decimal literal\n"
          ]
        }
      ]
    },
    {
      "cell_type": "code",
      "source": [],
      "metadata": {
        "id": "C9VL1Eeqa79w"
      },
      "execution_count": null,
      "outputs": []
    }
  ]
}